{
 "cells": [
  {
   "cell_type": "markdown",
   "id": "a1212002",
   "metadata": {},
   "source": [
    "# Marketing Analytics\n",
    "by Kuanchieh Peng"
   ]
  },
  {
   "cell_type": "markdown",
   "id": "518a2e76",
   "metadata": {},
   "source": [
    "## Problem Statement\n",
    "I am a marketing data analyst and I've been told by the Chief Marketing Officer that recent marketing campaigns have not been as effective as they were expected to be. I need to analyze datasets to understand this problem and propose data-driven solutions.\n",
    "## Dataset Overview\n",
    "The data set ifood_df.csv consists of 2206 customers of XYZ company with data on customer profiles, product preferences, campaign successes/failures, and channel performance.\n",
    "## Sources\n",
    "Dataset is ifood_df.csv from https://github.com/nailson/ifood-data-business-analyst-test. I do not own this dataset.\n",
    "## Brief\n",
    "- Preprocessing\n",
    "- EDA\n",
    "- Statistical Analyses on Campaigns\n",
    "- CMO Recommendations"
   ]
  },
  {
   "cell_type": "code",
   "execution_count": 46,
   "id": "9483931f",
   "metadata": {},
   "outputs": [
    {
     "data": {
      "text/html": [
       "<div>\n",
       "<style scoped>\n",
       "    .dataframe tbody tr th:only-of-type {\n",
       "        vertical-align: middle;\n",
       "    }\n",
       "\n",
       "    .dataframe tbody tr th {\n",
       "        vertical-align: top;\n",
       "    }\n",
       "\n",
       "    .dataframe thead th {\n",
       "        text-align: right;\n",
       "    }\n",
       "</style>\n",
       "<table border=\"1\" class=\"dataframe\">\n",
       "  <thead>\n",
       "    <tr style=\"text-align: right;\">\n",
       "      <th></th>\n",
       "      <th>Income</th>\n",
       "      <th>Kidhome</th>\n",
       "      <th>Teenhome</th>\n",
       "      <th>Recency</th>\n",
       "      <th>MntWines</th>\n",
       "      <th>MntFruits</th>\n",
       "      <th>MntMeatProducts</th>\n",
       "      <th>MntFishProducts</th>\n",
       "      <th>MntSweetProducts</th>\n",
       "      <th>MntGoldProds</th>\n",
       "      <th>NumDealsPurchases</th>\n",
       "      <th>NumWebPurchases</th>\n",
       "      <th>NumCatalogPurchases</th>\n",
       "      <th>NumStorePurchases</th>\n",
       "      <th>NumWebVisitsMonth</th>\n",
       "      <th>AcceptedCmp3</th>\n",
       "      <th>AcceptedCmp4</th>\n",
       "      <th>AcceptedCmp5</th>\n",
       "      <th>AcceptedCmp1</th>\n",
       "      <th>AcceptedCmp2</th>\n",
       "      <th>Complain</th>\n",
       "      <th>Z_CostContact</th>\n",
       "      <th>Z_Revenue</th>\n",
       "      <th>Response</th>\n",
       "      <th>Age</th>\n",
       "      <th>Customer_Days</th>\n",
       "      <th>marital_Divorced</th>\n",
       "      <th>marital_Married</th>\n",
       "      <th>marital_Single</th>\n",
       "      <th>marital_Together</th>\n",
       "      <th>marital_Widow</th>\n",
       "      <th>education_2n Cycle</th>\n",
       "      <th>education_Basic</th>\n",
       "      <th>education_Graduation</th>\n",
       "      <th>education_Master</th>\n",
       "      <th>education_PhD</th>\n",
       "      <th>MntTotal</th>\n",
       "      <th>MntRegularProds</th>\n",
       "      <th>AcceptedCmpOverall</th>\n",
       "      <th>Total_Num_Purchases</th>\n",
       "      <th>Total_Accepted_Cmp</th>\n",
       "      <th>AOV</th>\n",
       "    </tr>\n",
       "  </thead>\n",
       "  <tbody>\n",
       "    <tr>\n",
       "      <th>0</th>\n",
       "      <td>58138.0</td>\n",
       "      <td>0</td>\n",
       "      <td>0</td>\n",
       "      <td>58</td>\n",
       "      <td>635</td>\n",
       "      <td>88</td>\n",
       "      <td>546</td>\n",
       "      <td>172</td>\n",
       "      <td>88</td>\n",
       "      <td>88</td>\n",
       "      <td>3</td>\n",
       "      <td>8</td>\n",
       "      <td>10</td>\n",
       "      <td>4</td>\n",
       "      <td>7</td>\n",
       "      <td>0</td>\n",
       "      <td>0</td>\n",
       "      <td>0</td>\n",
       "      <td>0</td>\n",
       "      <td>0</td>\n",
       "      <td>0</td>\n",
       "      <td>3</td>\n",
       "      <td>11</td>\n",
       "      <td>1</td>\n",
       "      <td>63</td>\n",
       "      <td>2822</td>\n",
       "      <td>0</td>\n",
       "      <td>0</td>\n",
       "      <td>1</td>\n",
       "      <td>0</td>\n",
       "      <td>0</td>\n",
       "      <td>0</td>\n",
       "      <td>0</td>\n",
       "      <td>1</td>\n",
       "      <td>0</td>\n",
       "      <td>0</td>\n",
       "      <td>1529</td>\n",
       "      <td>1441</td>\n",
       "      <td>0</td>\n",
       "      <td>32</td>\n",
       "      <td>1</td>\n",
       "      <td>47.781250</td>\n",
       "    </tr>\n",
       "    <tr>\n",
       "      <th>1</th>\n",
       "      <td>46344.0</td>\n",
       "      <td>1</td>\n",
       "      <td>1</td>\n",
       "      <td>38</td>\n",
       "      <td>11</td>\n",
       "      <td>1</td>\n",
       "      <td>6</td>\n",
       "      <td>2</td>\n",
       "      <td>1</td>\n",
       "      <td>6</td>\n",
       "      <td>2</td>\n",
       "      <td>1</td>\n",
       "      <td>1</td>\n",
       "      <td>2</td>\n",
       "      <td>5</td>\n",
       "      <td>0</td>\n",
       "      <td>0</td>\n",
       "      <td>0</td>\n",
       "      <td>0</td>\n",
       "      <td>0</td>\n",
       "      <td>0</td>\n",
       "      <td>3</td>\n",
       "      <td>11</td>\n",
       "      <td>0</td>\n",
       "      <td>66</td>\n",
       "      <td>2272</td>\n",
       "      <td>0</td>\n",
       "      <td>0</td>\n",
       "      <td>1</td>\n",
       "      <td>0</td>\n",
       "      <td>0</td>\n",
       "      <td>0</td>\n",
       "      <td>0</td>\n",
       "      <td>1</td>\n",
       "      <td>0</td>\n",
       "      <td>0</td>\n",
       "      <td>21</td>\n",
       "      <td>15</td>\n",
       "      <td>0</td>\n",
       "      <td>11</td>\n",
       "      <td>0</td>\n",
       "      <td>1.909091</td>\n",
       "    </tr>\n",
       "    <tr>\n",
       "      <th>2</th>\n",
       "      <td>71613.0</td>\n",
       "      <td>0</td>\n",
       "      <td>0</td>\n",
       "      <td>26</td>\n",
       "      <td>426</td>\n",
       "      <td>49</td>\n",
       "      <td>127</td>\n",
       "      <td>111</td>\n",
       "      <td>21</td>\n",
       "      <td>42</td>\n",
       "      <td>1</td>\n",
       "      <td>8</td>\n",
       "      <td>2</td>\n",
       "      <td>10</td>\n",
       "      <td>4</td>\n",
       "      <td>0</td>\n",
       "      <td>0</td>\n",
       "      <td>0</td>\n",
       "      <td>0</td>\n",
       "      <td>0</td>\n",
       "      <td>0</td>\n",
       "      <td>3</td>\n",
       "      <td>11</td>\n",
       "      <td>0</td>\n",
       "      <td>55</td>\n",
       "      <td>2471</td>\n",
       "      <td>0</td>\n",
       "      <td>0</td>\n",
       "      <td>0</td>\n",
       "      <td>1</td>\n",
       "      <td>0</td>\n",
       "      <td>0</td>\n",
       "      <td>0</td>\n",
       "      <td>1</td>\n",
       "      <td>0</td>\n",
       "      <td>0</td>\n",
       "      <td>734</td>\n",
       "      <td>692</td>\n",
       "      <td>0</td>\n",
       "      <td>25</td>\n",
       "      <td>0</td>\n",
       "      <td>29.360000</td>\n",
       "    </tr>\n",
       "  </tbody>\n",
       "</table>\n",
       "</div>"
      ],
      "text/plain": [
       "    Income  Kidhome  Teenhome  Recency  MntWines  MntFruits  MntMeatProducts  \\\n",
       "0  58138.0        0         0       58       635         88              546   \n",
       "1  46344.0        1         1       38        11          1                6   \n",
       "2  71613.0        0         0       26       426         49              127   \n",
       "\n",
       "   MntFishProducts  MntSweetProducts  MntGoldProds  NumDealsPurchases  \\\n",
       "0              172                88            88                  3   \n",
       "1                2                 1             6                  2   \n",
       "2              111                21            42                  1   \n",
       "\n",
       "   NumWebPurchases  NumCatalogPurchases  NumStorePurchases  NumWebVisitsMonth  \\\n",
       "0                8                   10                  4                  7   \n",
       "1                1                    1                  2                  5   \n",
       "2                8                    2                 10                  4   \n",
       "\n",
       "   AcceptedCmp3  AcceptedCmp4  AcceptedCmp5  AcceptedCmp1  AcceptedCmp2  \\\n",
       "0             0             0             0             0             0   \n",
       "1             0             0             0             0             0   \n",
       "2             0             0             0             0             0   \n",
       "\n",
       "   Complain  Z_CostContact  Z_Revenue  Response  Age  Customer_Days  \\\n",
       "0         0              3         11         1   63           2822   \n",
       "1         0              3         11         0   66           2272   \n",
       "2         0              3         11         0   55           2471   \n",
       "\n",
       "   marital_Divorced  marital_Married  marital_Single  marital_Together  \\\n",
       "0                 0                0               1                 0   \n",
       "1                 0                0               1                 0   \n",
       "2                 0                0               0                 1   \n",
       "\n",
       "   marital_Widow  education_2n Cycle  education_Basic  education_Graduation  \\\n",
       "0              0                   0                0                     1   \n",
       "1              0                   0                0                     1   \n",
       "2              0                   0                0                     1   \n",
       "\n",
       "   education_Master  education_PhD  MntTotal  MntRegularProds  \\\n",
       "0                 0              0      1529             1441   \n",
       "1                 0              0        21               15   \n",
       "2                 0              0       734              692   \n",
       "\n",
       "   AcceptedCmpOverall  Total_Num_Purchases  Total_Accepted_Cmp        AOV  \n",
       "0                   0                   32                   1  47.781250  \n",
       "1                   0                   11                   0   1.909091  \n",
       "2                   0                   25                   0  29.360000  "
      ]
     },
     "execution_count": 46,
     "metadata": {},
     "output_type": "execute_result"
    }
   ],
   "source": [
    "df.head(3)"
   ]
  },
  {
   "cell_type": "code",
   "execution_count": 50,
   "id": "1dfd7560",
   "metadata": {},
   "outputs": [
    {
     "data": {
      "text/html": [
       "<div>\n",
       "<style scoped>\n",
       "    .dataframe tbody tr th:only-of-type {\n",
       "        vertical-align: middle;\n",
       "    }\n",
       "\n",
       "    .dataframe tbody tr th {\n",
       "        vertical-align: top;\n",
       "    }\n",
       "\n",
       "    .dataframe thead th {\n",
       "        text-align: right;\n",
       "    }\n",
       "</style>\n",
       "<table border=\"1\" class=\"dataframe\">\n",
       "  <thead>\n",
       "    <tr style=\"text-align: right;\">\n",
       "      <th></th>\n",
       "      <th>ID</th>\n",
       "      <th>Income</th>\n",
       "      <th>Kidhome</th>\n",
       "      <th>Teenhome</th>\n",
       "      <th>Recency</th>\n",
       "      <th>MntWines</th>\n",
       "      <th>MntFruits</th>\n",
       "      <th>MntMeatProducts</th>\n",
       "      <th>MntFishProducts</th>\n",
       "      <th>MntSweetProducts</th>\n",
       "      <th>MntGoldProds</th>\n",
       "      <th>NumDealsPurchases</th>\n",
       "      <th>NumWebPurchases</th>\n",
       "      <th>NumCatalogPurchases</th>\n",
       "      <th>NumStorePurchases</th>\n",
       "      <th>NumWebVisitsMonth</th>\n",
       "      <th>AcceptedCmp3</th>\n",
       "      <th>AcceptedCmp4</th>\n",
       "      <th>AcceptedCmp5</th>\n",
       "      <th>AcceptedCmp1</th>\n",
       "      <th>AcceptedCmp2</th>\n",
       "      <th>Complain</th>\n",
       "      <th>Z_CostContact</th>\n",
       "      <th>Z_Revenue</th>\n",
       "      <th>Response</th>\n",
       "      <th>Age</th>\n",
       "      <th>Customer_Days</th>\n",
       "      <th>marital_Divorced</th>\n",
       "      <th>marital_Married</th>\n",
       "      <th>marital_Single</th>\n",
       "      <th>marital_Together</th>\n",
       "      <th>marital_Widow</th>\n",
       "      <th>education_2n Cycle</th>\n",
       "      <th>education_Basic</th>\n",
       "      <th>education_Graduation</th>\n",
       "      <th>education_Master</th>\n",
       "      <th>education_PhD</th>\n",
       "      <th>MntTotal</th>\n",
       "      <th>MntRegularProds</th>\n",
       "      <th>AcceptedCmpOverall</th>\n",
       "    </tr>\n",
       "  </thead>\n",
       "  <tbody>\n",
       "    <tr>\n",
       "      <th>0</th>\n",
       "      <td>0</td>\n",
       "      <td>58138.0</td>\n",
       "      <td>0</td>\n",
       "      <td>0</td>\n",
       "      <td>58</td>\n",
       "      <td>635</td>\n",
       "      <td>88</td>\n",
       "      <td>546</td>\n",
       "      <td>172</td>\n",
       "      <td>88</td>\n",
       "      <td>88</td>\n",
       "      <td>3</td>\n",
       "      <td>8</td>\n",
       "      <td>10</td>\n",
       "      <td>4</td>\n",
       "      <td>7</td>\n",
       "      <td>0</td>\n",
       "      <td>0</td>\n",
       "      <td>0</td>\n",
       "      <td>0</td>\n",
       "      <td>0</td>\n",
       "      <td>0</td>\n",
       "      <td>3</td>\n",
       "      <td>11</td>\n",
       "      <td>1</td>\n",
       "      <td>63</td>\n",
       "      <td>2822</td>\n",
       "      <td>0</td>\n",
       "      <td>0</td>\n",
       "      <td>1</td>\n",
       "      <td>0</td>\n",
       "      <td>0</td>\n",
       "      <td>0</td>\n",
       "      <td>0</td>\n",
       "      <td>1</td>\n",
       "      <td>0</td>\n",
       "      <td>0</td>\n",
       "      <td>1529</td>\n",
       "      <td>1441</td>\n",
       "      <td>0</td>\n",
       "    </tr>\n",
       "    <tr>\n",
       "      <th>1</th>\n",
       "      <td>1</td>\n",
       "      <td>46344.0</td>\n",
       "      <td>1</td>\n",
       "      <td>1</td>\n",
       "      <td>38</td>\n",
       "      <td>11</td>\n",
       "      <td>1</td>\n",
       "      <td>6</td>\n",
       "      <td>2</td>\n",
       "      <td>1</td>\n",
       "      <td>6</td>\n",
       "      <td>2</td>\n",
       "      <td>1</td>\n",
       "      <td>1</td>\n",
       "      <td>2</td>\n",
       "      <td>5</td>\n",
       "      <td>0</td>\n",
       "      <td>0</td>\n",
       "      <td>0</td>\n",
       "      <td>0</td>\n",
       "      <td>0</td>\n",
       "      <td>0</td>\n",
       "      <td>3</td>\n",
       "      <td>11</td>\n",
       "      <td>0</td>\n",
       "      <td>66</td>\n",
       "      <td>2272</td>\n",
       "      <td>0</td>\n",
       "      <td>0</td>\n",
       "      <td>1</td>\n",
       "      <td>0</td>\n",
       "      <td>0</td>\n",
       "      <td>0</td>\n",
       "      <td>0</td>\n",
       "      <td>1</td>\n",
       "      <td>0</td>\n",
       "      <td>0</td>\n",
       "      <td>21</td>\n",
       "      <td>15</td>\n",
       "      <td>0</td>\n",
       "    </tr>\n",
       "    <tr>\n",
       "      <th>2</th>\n",
       "      <td>2</td>\n",
       "      <td>71613.0</td>\n",
       "      <td>0</td>\n",
       "      <td>0</td>\n",
       "      <td>26</td>\n",
       "      <td>426</td>\n",
       "      <td>49</td>\n",
       "      <td>127</td>\n",
       "      <td>111</td>\n",
       "      <td>21</td>\n",
       "      <td>42</td>\n",
       "      <td>1</td>\n",
       "      <td>8</td>\n",
       "      <td>2</td>\n",
       "      <td>10</td>\n",
       "      <td>4</td>\n",
       "      <td>0</td>\n",
       "      <td>0</td>\n",
       "      <td>0</td>\n",
       "      <td>0</td>\n",
       "      <td>0</td>\n",
       "      <td>0</td>\n",
       "      <td>3</td>\n",
       "      <td>11</td>\n",
       "      <td>0</td>\n",
       "      <td>55</td>\n",
       "      <td>2471</td>\n",
       "      <td>0</td>\n",
       "      <td>0</td>\n",
       "      <td>0</td>\n",
       "      <td>1</td>\n",
       "      <td>0</td>\n",
       "      <td>0</td>\n",
       "      <td>0</td>\n",
       "      <td>1</td>\n",
       "      <td>0</td>\n",
       "      <td>0</td>\n",
       "      <td>734</td>\n",
       "      <td>692</td>\n",
       "      <td>0</td>\n",
       "    </tr>\n",
       "  </tbody>\n",
       "</table>\n",
       "</div>"
      ],
      "text/plain": [
       "   ID   Income  Kidhome  Teenhome  Recency  MntWines  MntFruits  \\\n",
       "0   0  58138.0        0         0       58       635         88   \n",
       "1   1  46344.0        1         1       38        11          1   \n",
       "2   2  71613.0        0         0       26       426         49   \n",
       "\n",
       "   MntMeatProducts  MntFishProducts  MntSweetProducts  MntGoldProds  \\\n",
       "0              546              172                88            88   \n",
       "1                6                2                 1             6   \n",
       "2              127              111                21            42   \n",
       "\n",
       "   NumDealsPurchases  NumWebPurchases  NumCatalogPurchases  NumStorePurchases  \\\n",
       "0                  3                8                   10                  4   \n",
       "1                  2                1                    1                  2   \n",
       "2                  1                8                    2                 10   \n",
       "\n",
       "   NumWebVisitsMonth  AcceptedCmp3  AcceptedCmp4  AcceptedCmp5  AcceptedCmp1  \\\n",
       "0                  7             0             0             0             0   \n",
       "1                  5             0             0             0             0   \n",
       "2                  4             0             0             0             0   \n",
       "\n",
       "   AcceptedCmp2  Complain  Z_CostContact  Z_Revenue  Response  Age  \\\n",
       "0             0         0              3         11         1   63   \n",
       "1             0         0              3         11         0   66   \n",
       "2             0         0              3         11         0   55   \n",
       "\n",
       "   Customer_Days  marital_Divorced  marital_Married  marital_Single  \\\n",
       "0           2822                 0                0               1   \n",
       "1           2272                 0                0               1   \n",
       "2           2471                 0                0               0   \n",
       "\n",
       "   marital_Together  marital_Widow  education_2n Cycle  education_Basic  \\\n",
       "0                 0              0                   0                0   \n",
       "1                 0              0                   0                0   \n",
       "2                 1              0                   0                0   \n",
       "\n",
       "   education_Graduation  education_Master  education_PhD  MntTotal  \\\n",
       "0                     1                 0              0      1529   \n",
       "1                     1                 0              0        21   \n",
       "2                     1                 0              0       734   \n",
       "\n",
       "   MntRegularProds  AcceptedCmpOverall  \n",
       "0             1441                   0  \n",
       "1               15                   0  \n",
       "2              692                   0  "
      ]
     },
     "execution_count": 50,
     "metadata": {},
     "output_type": "execute_result"
    }
   ],
   "source": [
    "df.insert(0, 'ID', df.index)\n",
    "df.head(3)"
   ]
  },
  {
   "cell_type": "code",
   "execution_count": 51,
   "id": "a7d81b84",
   "metadata": {},
   "outputs": [],
   "source": [
    "title = 'ifood_df_tableau.csv'\n",
    "df_cleaned.to_csv(title, index = False)\n",
    "df = pd.read_csv(title)"
   ]
  },
  {
   "cell_type": "markdown",
   "id": "fed84650",
   "metadata": {},
   "source": [
    "## Preprocessing"
   ]
  },
  {
   "cell_type": "code",
   "execution_count": 5,
   "id": "8a146f5e",
   "metadata": {},
   "outputs": [],
   "source": [
    "# for when the notebook is not opened as root\n",
    "#import sys\n",
    "#!{sys.executable} -m pip install --user shap"
   ]
  },
  {
   "cell_type": "code",
   "execution_count": 13,
   "id": "ebb95cb1",
   "metadata": {},
   "outputs": [],
   "source": [
    "# for preprocessing, EDA\n",
    "import os\n",
    "import numpy as np\n",
    "import pandas as pd\n",
    "pd.set_option('display.max_columns', None)\n",
    "pd.set_option('display.max_rows', None)\n",
    "\n",
    "# for modeling\n",
    "from sklearn.model_selection import train_test_split\n",
    "from sklearn.ensemble import RandomForestRegressor\n",
    "\n",
    "# for statistical analyses and evaluation\n",
    "import statsmodels.api as sm\n",
    "from scipy.stats import pearsonr\n",
    "from sklearn import metrics\n",
    "#import shap\n",
    "\n",
    "# for visualizations\n",
    "import matplotlib.pyplot as plt\n",
    "import seaborn as sb\n",
    "%matplotlib inline\n",
    "\n",
    "# for suppressing warnings\n",
    "import warnings\n",
    "warnings.simplefilter(\"ignore\")"
   ]
  },
  {
   "cell_type": "code",
   "execution_count": 48,
   "id": "dc7a1e90",
   "metadata": {},
   "outputs": [],
   "source": [
    "df = pd.read_csv('ifood_df.csv')\n",
    "df_cleaned = df.copy()"
   ]
  },
  {
   "cell_type": "markdown",
   "id": "7a6b3697",
   "metadata": {},
   "source": [
    "## Pipeline"
   ]
  },
  {
   "cell_type": "code",
   "execution_count": 15,
   "id": "e6733844",
   "metadata": {},
   "outputs": [],
   "source": [
    "class bold:\n",
    "    start = '\\033[1m'\n",
    "    end   = '\\033[0m'\n",
    "    \n",
    "def full_info(df):\n",
    "    # Prints typically useful statistical information about given dataframe.\n",
    "    print(\"This dataframe consists of \", df.shape[1], \" columns and\", df.shape[0], \" rows.\")\n",
    "    print(\"This dataframe consists of \", df.isnull().sum().sum(), \" null entires.\")\n",
    "    print(\"This dataframe consists of \", df[df.duplicated()].shape[0], \" duplicate rows.\")\n",
    "    print(\"\")\n",
    "    print(bold.start, \"Notable statistics of numeric features in this dataset:\", bold.end)\n",
    "    print(\"\")\n",
    "    print(df.describe())\n",
    "    print(\"\")\n",
    "    print(bold.start, \"Object type of features in this dataset:\", bold.end)\n",
    "    print(\"\")\n",
    "    df.info()\n",
    "    \n",
    "def short_info(df):\n",
    "    # Prints selected useful statistical information about given dataframe.\n",
    "    print(\"This dataframe consists of \", df.shape[1], \" columns and\", df.shape[0], \" rows.\")\n",
    "    print(\"This dataframe consists of \", df.isnull().sum().sum(), \" null entires.\")\n",
    "    print(\"This dataframe consists of \", df[df.duplicated()].shape[0], \" duplicate rows.\")\n",
    "    \n",
    "def cwd():\n",
    "    print(os.getcwd())"
   ]
  },
  {
   "cell_type": "markdown",
   "id": "bc287a81",
   "metadata": {},
   "source": [
    "## Data Cleaning"
   ]
  },
  {
   "cell_type": "code",
   "execution_count": 16,
   "id": "af50a288",
   "metadata": {},
   "outputs": [
    {
     "data": {
      "text/html": [
       "<div>\n",
       "<style scoped>\n",
       "    .dataframe tbody tr th:only-of-type {\n",
       "        vertical-align: middle;\n",
       "    }\n",
       "\n",
       "    .dataframe tbody tr th {\n",
       "        vertical-align: top;\n",
       "    }\n",
       "\n",
       "    .dataframe thead th {\n",
       "        text-align: right;\n",
       "    }\n",
       "</style>\n",
       "<table border=\"1\" class=\"dataframe\">\n",
       "  <thead>\n",
       "    <tr style=\"text-align: right;\">\n",
       "      <th></th>\n",
       "      <th>Income</th>\n",
       "      <th>Kidhome</th>\n",
       "      <th>Teenhome</th>\n",
       "      <th>Recency</th>\n",
       "      <th>MntWines</th>\n",
       "      <th>MntFruits</th>\n",
       "      <th>MntMeatProducts</th>\n",
       "      <th>MntFishProducts</th>\n",
       "      <th>MntSweetProducts</th>\n",
       "      <th>MntGoldProds</th>\n",
       "      <th>NumDealsPurchases</th>\n",
       "      <th>NumWebPurchases</th>\n",
       "      <th>NumCatalogPurchases</th>\n",
       "      <th>NumStorePurchases</th>\n",
       "      <th>NumWebVisitsMonth</th>\n",
       "      <th>AcceptedCmp3</th>\n",
       "      <th>AcceptedCmp4</th>\n",
       "      <th>AcceptedCmp5</th>\n",
       "      <th>AcceptedCmp1</th>\n",
       "      <th>AcceptedCmp2</th>\n",
       "      <th>Complain</th>\n",
       "      <th>Z_CostContact</th>\n",
       "      <th>Z_Revenue</th>\n",
       "      <th>Response</th>\n",
       "      <th>Age</th>\n",
       "      <th>Customer_Days</th>\n",
       "      <th>marital_Divorced</th>\n",
       "      <th>marital_Married</th>\n",
       "      <th>marital_Single</th>\n",
       "      <th>marital_Together</th>\n",
       "      <th>marital_Widow</th>\n",
       "      <th>education_2n Cycle</th>\n",
       "      <th>education_Basic</th>\n",
       "      <th>education_Graduation</th>\n",
       "      <th>education_Master</th>\n",
       "      <th>education_PhD</th>\n",
       "      <th>MntTotal</th>\n",
       "      <th>MntRegularProds</th>\n",
       "      <th>AcceptedCmpOverall</th>\n",
       "    </tr>\n",
       "  </thead>\n",
       "  <tbody>\n",
       "    <tr>\n",
       "      <th>0</th>\n",
       "      <td>58138.0</td>\n",
       "      <td>0</td>\n",
       "      <td>0</td>\n",
       "      <td>58</td>\n",
       "      <td>635</td>\n",
       "      <td>88</td>\n",
       "      <td>546</td>\n",
       "      <td>172</td>\n",
       "      <td>88</td>\n",
       "      <td>88</td>\n",
       "      <td>3</td>\n",
       "      <td>8</td>\n",
       "      <td>10</td>\n",
       "      <td>4</td>\n",
       "      <td>7</td>\n",
       "      <td>0</td>\n",
       "      <td>0</td>\n",
       "      <td>0</td>\n",
       "      <td>0</td>\n",
       "      <td>0</td>\n",
       "      <td>0</td>\n",
       "      <td>3</td>\n",
       "      <td>11</td>\n",
       "      <td>1</td>\n",
       "      <td>63</td>\n",
       "      <td>2822</td>\n",
       "      <td>0</td>\n",
       "      <td>0</td>\n",
       "      <td>1</td>\n",
       "      <td>0</td>\n",
       "      <td>0</td>\n",
       "      <td>0</td>\n",
       "      <td>0</td>\n",
       "      <td>1</td>\n",
       "      <td>0</td>\n",
       "      <td>0</td>\n",
       "      <td>1529</td>\n",
       "      <td>1441</td>\n",
       "      <td>0</td>\n",
       "    </tr>\n",
       "    <tr>\n",
       "      <th>1</th>\n",
       "      <td>46344.0</td>\n",
       "      <td>1</td>\n",
       "      <td>1</td>\n",
       "      <td>38</td>\n",
       "      <td>11</td>\n",
       "      <td>1</td>\n",
       "      <td>6</td>\n",
       "      <td>2</td>\n",
       "      <td>1</td>\n",
       "      <td>6</td>\n",
       "      <td>2</td>\n",
       "      <td>1</td>\n",
       "      <td>1</td>\n",
       "      <td>2</td>\n",
       "      <td>5</td>\n",
       "      <td>0</td>\n",
       "      <td>0</td>\n",
       "      <td>0</td>\n",
       "      <td>0</td>\n",
       "      <td>0</td>\n",
       "      <td>0</td>\n",
       "      <td>3</td>\n",
       "      <td>11</td>\n",
       "      <td>0</td>\n",
       "      <td>66</td>\n",
       "      <td>2272</td>\n",
       "      <td>0</td>\n",
       "      <td>0</td>\n",
       "      <td>1</td>\n",
       "      <td>0</td>\n",
       "      <td>0</td>\n",
       "      <td>0</td>\n",
       "      <td>0</td>\n",
       "      <td>1</td>\n",
       "      <td>0</td>\n",
       "      <td>0</td>\n",
       "      <td>21</td>\n",
       "      <td>15</td>\n",
       "      <td>0</td>\n",
       "    </tr>\n",
       "    <tr>\n",
       "      <th>2</th>\n",
       "      <td>71613.0</td>\n",
       "      <td>0</td>\n",
       "      <td>0</td>\n",
       "      <td>26</td>\n",
       "      <td>426</td>\n",
       "      <td>49</td>\n",
       "      <td>127</td>\n",
       "      <td>111</td>\n",
       "      <td>21</td>\n",
       "      <td>42</td>\n",
       "      <td>1</td>\n",
       "      <td>8</td>\n",
       "      <td>2</td>\n",
       "      <td>10</td>\n",
       "      <td>4</td>\n",
       "      <td>0</td>\n",
       "      <td>0</td>\n",
       "      <td>0</td>\n",
       "      <td>0</td>\n",
       "      <td>0</td>\n",
       "      <td>0</td>\n",
       "      <td>3</td>\n",
       "      <td>11</td>\n",
       "      <td>0</td>\n",
       "      <td>55</td>\n",
       "      <td>2471</td>\n",
       "      <td>0</td>\n",
       "      <td>0</td>\n",
       "      <td>0</td>\n",
       "      <td>1</td>\n",
       "      <td>0</td>\n",
       "      <td>0</td>\n",
       "      <td>0</td>\n",
       "      <td>1</td>\n",
       "      <td>0</td>\n",
       "      <td>0</td>\n",
       "      <td>734</td>\n",
       "      <td>692</td>\n",
       "      <td>0</td>\n",
       "    </tr>\n",
       "  </tbody>\n",
       "</table>\n",
       "</div>"
      ],
      "text/plain": [
       "    Income  Kidhome  Teenhome  Recency  MntWines  MntFruits  MntMeatProducts  \\\n",
       "0  58138.0        0         0       58       635         88              546   \n",
       "1  46344.0        1         1       38        11          1                6   \n",
       "2  71613.0        0         0       26       426         49              127   \n",
       "\n",
       "   MntFishProducts  MntSweetProducts  MntGoldProds  NumDealsPurchases  \\\n",
       "0              172                88            88                  3   \n",
       "1                2                 1             6                  2   \n",
       "2              111                21            42                  1   \n",
       "\n",
       "   NumWebPurchases  NumCatalogPurchases  NumStorePurchases  NumWebVisitsMonth  \\\n",
       "0                8                   10                  4                  7   \n",
       "1                1                    1                  2                  5   \n",
       "2                8                    2                 10                  4   \n",
       "\n",
       "   AcceptedCmp3  AcceptedCmp4  AcceptedCmp5  AcceptedCmp1  AcceptedCmp2  \\\n",
       "0             0             0             0             0             0   \n",
       "1             0             0             0             0             0   \n",
       "2             0             0             0             0             0   \n",
       "\n",
       "   Complain  Z_CostContact  Z_Revenue  Response  Age  Customer_Days  \\\n",
       "0         0              3         11         1   63           2822   \n",
       "1         0              3         11         0   66           2272   \n",
       "2         0              3         11         0   55           2471   \n",
       "\n",
       "   marital_Divorced  marital_Married  marital_Single  marital_Together  \\\n",
       "0                 0                0               1                 0   \n",
       "1                 0                0               1                 0   \n",
       "2                 0                0               0                 1   \n",
       "\n",
       "   marital_Widow  education_2n Cycle  education_Basic  education_Graduation  \\\n",
       "0              0                   0                0                     1   \n",
       "1              0                   0                0                     1   \n",
       "2              0                   0                0                     1   \n",
       "\n",
       "   education_Master  education_PhD  MntTotal  MntRegularProds  \\\n",
       "0                 0              0      1529             1441   \n",
       "1                 0              0        21               15   \n",
       "2                 0              0       734              692   \n",
       "\n",
       "   AcceptedCmpOverall  \n",
       "0                   0  \n",
       "1                   0  \n",
       "2                   0  "
      ]
     },
     "execution_count": 16,
     "metadata": {},
     "output_type": "execute_result"
    }
   ],
   "source": [
    "df.head(3)"
   ]
  },
  {
   "cell_type": "code",
   "execution_count": 17,
   "id": "47efd089",
   "metadata": {},
   "outputs": [
    {
     "data": {
      "text/plain": [
       "(2205, 39)"
      ]
     },
     "execution_count": 17,
     "metadata": {},
     "output_type": "execute_result"
    }
   ],
   "source": [
    "df.shape"
   ]
  },
  {
   "cell_type": "code",
   "execution_count": 18,
   "id": "c59922ca",
   "metadata": {},
   "outputs": [
    {
     "name": "stdout",
     "output_type": "stream",
     "text": [
      "This dataframe consists of  39  columns and 2205  rows.\n",
      "This dataframe consists of  0  null entires.\n",
      "This dataframe consists of  184  duplicate rows.\n",
      "\n",
      "\u001b[1m Notable statistics of numeric features in this dataset: \u001b[0m\n",
      "\n",
      "              Income      Kidhome     Teenhome      Recency     MntWines  \\\n",
      "count    2205.000000  2205.000000  2205.000000  2205.000000  2205.000000   \n",
      "mean    51622.094785     0.442177     0.506576    49.009070   306.164626   \n",
      "std     20713.063826     0.537132     0.544380    28.932111   337.493839   \n",
      "min      1730.000000     0.000000     0.000000     0.000000     0.000000   \n",
      "25%     35196.000000     0.000000     0.000000    24.000000    24.000000   \n",
      "50%     51287.000000     0.000000     0.000000    49.000000   178.000000   \n",
      "75%     68281.000000     1.000000     1.000000    74.000000   507.000000   \n",
      "max    113734.000000     2.000000     2.000000    99.000000  1493.000000   \n",
      "\n",
      "         MntFruits  MntMeatProducts  MntFishProducts  MntSweetProducts  \\\n",
      "count  2205.000000      2205.000000      2205.000000       2205.000000   \n",
      "mean     26.403175       165.312018        37.756463         27.128345   \n",
      "std      39.784484       217.784507        54.824635         41.130468   \n",
      "min       0.000000         0.000000         0.000000          0.000000   \n",
      "25%       2.000000        16.000000         3.000000          1.000000   \n",
      "50%       8.000000        68.000000        12.000000          8.000000   \n",
      "75%      33.000000       232.000000        50.000000         34.000000   \n",
      "max     199.000000      1725.000000       259.000000        262.000000   \n",
      "\n",
      "       MntGoldProds  NumDealsPurchases  NumWebPurchases  NumCatalogPurchases  \\\n",
      "count   2205.000000        2205.000000      2205.000000          2205.000000   \n",
      "mean      44.057143           2.318367         4.100680             2.645351   \n",
      "std       51.736211           1.886107         2.737424             2.798647   \n",
      "min        0.000000           0.000000         0.000000             0.000000   \n",
      "25%        9.000000           1.000000         2.000000             0.000000   \n",
      "50%       25.000000           2.000000         4.000000             2.000000   \n",
      "75%       56.000000           3.000000         6.000000             4.000000   \n",
      "max      321.000000          15.000000        27.000000            28.000000   \n",
      "\n",
      "       NumStorePurchases  NumWebVisitsMonth  AcceptedCmp3  AcceptedCmp4  \\\n",
      "count        2205.000000        2205.000000   2205.000000   2205.000000   \n",
      "mean            5.823583           5.336961      0.073923      0.074376   \n",
      "std             3.241796           2.413535      0.261705      0.262442   \n",
      "min             0.000000           0.000000      0.000000      0.000000   \n",
      "25%             3.000000           3.000000      0.000000      0.000000   \n",
      "50%             5.000000           6.000000      0.000000      0.000000   \n",
      "75%             8.000000           7.000000      0.000000      0.000000   \n",
      "max            13.000000          20.000000      1.000000      1.000000   \n",
      "\n",
      "       AcceptedCmp5  AcceptedCmp1  AcceptedCmp2     Complain  Z_CostContact  \\\n",
      "count   2205.000000   2205.000000   2205.000000  2205.000000         2205.0   \n",
      "mean       0.073016      0.064399      0.013605     0.009070            3.0   \n",
      "std        0.260222      0.245518      0.115872     0.094827            0.0   \n",
      "min        0.000000      0.000000      0.000000     0.000000            3.0   \n",
      "25%        0.000000      0.000000      0.000000     0.000000            3.0   \n",
      "50%        0.000000      0.000000      0.000000     0.000000            3.0   \n",
      "75%        0.000000      0.000000      0.000000     0.000000            3.0   \n",
      "max        1.000000      1.000000      1.000000     1.000000            3.0   \n",
      "\n",
      "       Z_Revenue    Response          Age  Customer_Days  marital_Divorced  \\\n",
      "count     2205.0  2205.00000  2205.000000    2205.000000       2205.000000   \n",
      "mean        11.0     0.15102    51.095692    2512.718367          0.104308   \n",
      "std          0.0     0.35815    11.705801     202.563647          0.305730   \n",
      "min         11.0     0.00000    24.000000    2159.000000          0.000000   \n",
      "25%         11.0     0.00000    43.000000    2339.000000          0.000000   \n",
      "50%         11.0     0.00000    50.000000    2515.000000          0.000000   \n",
      "75%         11.0     0.00000    61.000000    2688.000000          0.000000   \n",
      "max         11.0     1.00000    80.000000    2858.000000          1.000000   \n",
      "\n",
      "       marital_Married  marital_Single  marital_Together  marital_Widow  \\\n",
      "count      2205.000000     2205.000000       2205.000000    2205.000000   \n",
      "mean          0.387302        0.216327          0.257596       0.034467   \n",
      "std           0.487244        0.411833          0.437410       0.182467   \n",
      "min           0.000000        0.000000          0.000000       0.000000   \n",
      "25%           0.000000        0.000000          0.000000       0.000000   \n",
      "50%           0.000000        0.000000          0.000000       0.000000   \n",
      "75%           1.000000        0.000000          1.000000       0.000000   \n",
      "max           1.000000        1.000000          1.000000       1.000000   \n",
      "\n",
      "       education_2n Cycle  education_Basic  education_Graduation  \\\n",
      "count         2205.000000      2205.000000           2205.000000   \n",
      "mean             0.089796         0.024490              0.504762   \n",
      "std              0.285954         0.154599              0.500091   \n",
      "min              0.000000         0.000000              0.000000   \n",
      "25%              0.000000         0.000000              0.000000   \n",
      "50%              0.000000         0.000000              1.000000   \n",
      "75%              0.000000         0.000000              1.000000   \n",
      "max              1.000000         1.000000              1.000000   \n",
      "\n",
      "       education_Master  education_PhD     MntTotal  MntRegularProds  \\\n",
      "count       2205.000000    2205.000000  2205.000000      2205.000000   \n",
      "mean           0.165079       0.215873   562.764626       518.707483   \n",
      "std            0.371336       0.411520   575.936911       553.847248   \n",
      "min            0.000000       0.000000     4.000000      -283.000000   \n",
      "25%            0.000000       0.000000    56.000000        42.000000   \n",
      "50%            0.000000       0.000000   343.000000       288.000000   \n",
      "75%            0.000000       0.000000   964.000000       884.000000   \n",
      "max            1.000000       1.000000  2491.000000      2458.000000   \n",
      "\n",
      "       AcceptedCmpOverall  \n",
      "count          2205.00000  \n",
      "mean              0.29932  \n",
      "std               0.68044  \n",
      "min               0.00000  \n",
      "25%               0.00000  \n",
      "50%               0.00000  \n",
      "75%               0.00000  \n",
      "max               4.00000  \n",
      "\n",
      "\u001b[1m Object type of features in this dataset: \u001b[0m\n",
      "\n",
      "<class 'pandas.core.frame.DataFrame'>\n",
      "RangeIndex: 2205 entries, 0 to 2204\n",
      "Data columns (total 39 columns):\n",
      " #   Column                Non-Null Count  Dtype  \n",
      "---  ------                --------------  -----  \n",
      " 0   Income                2205 non-null   float64\n",
      " 1   Kidhome               2205 non-null   int64  \n",
      " 2   Teenhome              2205 non-null   int64  \n",
      " 3   Recency               2205 non-null   int64  \n",
      " 4   MntWines              2205 non-null   int64  \n",
      " 5   MntFruits             2205 non-null   int64  \n",
      " 6   MntMeatProducts       2205 non-null   int64  \n",
      " 7   MntFishProducts       2205 non-null   int64  \n",
      " 8   MntSweetProducts      2205 non-null   int64  \n",
      " 9   MntGoldProds          2205 non-null   int64  \n",
      " 10  NumDealsPurchases     2205 non-null   int64  \n",
      " 11  NumWebPurchases       2205 non-null   int64  \n",
      " 12  NumCatalogPurchases   2205 non-null   int64  \n",
      " 13  NumStorePurchases     2205 non-null   int64  \n",
      " 14  NumWebVisitsMonth     2205 non-null   int64  \n",
      " 15  AcceptedCmp3          2205 non-null   int64  \n",
      " 16  AcceptedCmp4          2205 non-null   int64  \n",
      " 17  AcceptedCmp5          2205 non-null   int64  \n",
      " 18  AcceptedCmp1          2205 non-null   int64  \n",
      " 19  AcceptedCmp2          2205 non-null   int64  \n",
      " 20  Complain              2205 non-null   int64  \n",
      " 21  Z_CostContact         2205 non-null   int64  \n",
      " 22  Z_Revenue             2205 non-null   int64  \n",
      " 23  Response              2205 non-null   int64  \n",
      " 24  Age                   2205 non-null   int64  \n",
      " 25  Customer_Days         2205 non-null   int64  \n",
      " 26  marital_Divorced      2205 non-null   int64  \n",
      " 27  marital_Married       2205 non-null   int64  \n",
      " 28  marital_Single        2205 non-null   int64  \n",
      " 29  marital_Together      2205 non-null   int64  \n",
      " 30  marital_Widow         2205 non-null   int64  \n",
      " 31  education_2n Cycle    2205 non-null   int64  \n",
      " 32  education_Basic       2205 non-null   int64  \n",
      " 33  education_Graduation  2205 non-null   int64  \n",
      " 34  education_Master      2205 non-null   int64  \n",
      " 35  education_PhD         2205 non-null   int64  \n",
      " 36  MntTotal              2205 non-null   int64  \n",
      " 37  MntRegularProds       2205 non-null   int64  \n",
      " 38  AcceptedCmpOverall    2205 non-null   int64  \n",
      "dtypes: float64(1), int64(38)\n",
      "memory usage: 672.0 KB\n"
     ]
    }
   ],
   "source": [
    "full_info(df)"
   ]
  },
  {
   "cell_type": "markdown",
   "id": "b8ee4a34",
   "metadata": {},
   "source": [
    "#### Annotation on Features\n",
    "- (Kid)home - number of kids in customer's household\n",
    "- Recency - number of days since customer's last purchase\n",
    "- Mnt(Wines) - amount spent on (wine) in the past two years\n",
    "- Num(Deals)Purchases - number of purchases made with a discount\n",
    "- Accepted(Cmp3) - 1 if customer accepted offer in third campaign, 0 otherwise\n",
    "- Response - 1 if customer accepted offer in the last campaign, 0 otherwise\n",
    "- Complain - 1 if customer had filed one or more complaints in the past two years, 0 otherwise \n",
    "\n",
    "#### Assessment Report\n",
    "- There are 184 duplicate rows.\n",
    "- There are 0 null entries.\n",
    "- Feature data types are ideal(being numerical)."
   ]
  },
  {
   "cell_type": "markdown",
   "id": "41f9723e",
   "metadata": {},
   "source": [
    "#### Dropping Duplicates"
   ]
  },
  {
   "cell_type": "code",
   "execution_count": 19,
   "id": "158ec2f3",
   "metadata": {},
   "outputs": [],
   "source": [
    "df_cleaned = df.drop_duplicates()"
   ]
  },
  {
   "cell_type": "code",
   "execution_count": 20,
   "id": "7eaf2196",
   "metadata": {},
   "outputs": [
    {
     "data": {
      "text/plain": [
       "0"
      ]
     },
     "execution_count": 20,
     "metadata": {},
     "output_type": "execute_result"
    }
   ],
   "source": [
    "df_cleaned[df_cleaned.duplicated()].shape[0]"
   ]
  },
  {
   "cell_type": "code",
   "execution_count": 21,
   "id": "a24fba59",
   "metadata": {},
   "outputs": [],
   "source": [
    "title = 'ifood_df_cleaned.csv'\n",
    "df_cleaned.to_csv(title, index = False)\n",
    "df = pd.read_csv(title)"
   ]
  },
  {
   "cell_type": "markdown",
   "id": "f2bf275d",
   "metadata": {},
   "source": [
    "#### Checking Cleaned Dataframe"
   ]
  },
  {
   "cell_type": "code",
   "execution_count": 22,
   "id": "acd83fdb",
   "metadata": {},
   "outputs": [
    {
     "data": {
      "text/html": [
       "<div>\n",
       "<style scoped>\n",
       "    .dataframe tbody tr th:only-of-type {\n",
       "        vertical-align: middle;\n",
       "    }\n",
       "\n",
       "    .dataframe tbody tr th {\n",
       "        vertical-align: top;\n",
       "    }\n",
       "\n",
       "    .dataframe thead th {\n",
       "        text-align: right;\n",
       "    }\n",
       "</style>\n",
       "<table border=\"1\" class=\"dataframe\">\n",
       "  <thead>\n",
       "    <tr style=\"text-align: right;\">\n",
       "      <th></th>\n",
       "      <th>Income</th>\n",
       "      <th>Kidhome</th>\n",
       "      <th>Teenhome</th>\n",
       "      <th>Recency</th>\n",
       "      <th>MntWines</th>\n",
       "      <th>MntFruits</th>\n",
       "      <th>MntMeatProducts</th>\n",
       "      <th>MntFishProducts</th>\n",
       "      <th>MntSweetProducts</th>\n",
       "      <th>MntGoldProds</th>\n",
       "      <th>NumDealsPurchases</th>\n",
       "      <th>NumWebPurchases</th>\n",
       "      <th>NumCatalogPurchases</th>\n",
       "      <th>NumStorePurchases</th>\n",
       "      <th>NumWebVisitsMonth</th>\n",
       "      <th>AcceptedCmp3</th>\n",
       "      <th>AcceptedCmp4</th>\n",
       "      <th>AcceptedCmp5</th>\n",
       "      <th>AcceptedCmp1</th>\n",
       "      <th>AcceptedCmp2</th>\n",
       "      <th>Complain</th>\n",
       "      <th>Z_CostContact</th>\n",
       "      <th>Z_Revenue</th>\n",
       "      <th>Response</th>\n",
       "      <th>Age</th>\n",
       "      <th>Customer_Days</th>\n",
       "      <th>marital_Divorced</th>\n",
       "      <th>marital_Married</th>\n",
       "      <th>marital_Single</th>\n",
       "      <th>marital_Together</th>\n",
       "      <th>marital_Widow</th>\n",
       "      <th>education_2n Cycle</th>\n",
       "      <th>education_Basic</th>\n",
       "      <th>education_Graduation</th>\n",
       "      <th>education_Master</th>\n",
       "      <th>education_PhD</th>\n",
       "      <th>MntTotal</th>\n",
       "      <th>MntRegularProds</th>\n",
       "      <th>AcceptedCmpOverall</th>\n",
       "    </tr>\n",
       "  </thead>\n",
       "  <tbody>\n",
       "    <tr>\n",
       "      <th>0</th>\n",
       "      <td>58138.0</td>\n",
       "      <td>0</td>\n",
       "      <td>0</td>\n",
       "      <td>58</td>\n",
       "      <td>635</td>\n",
       "      <td>88</td>\n",
       "      <td>546</td>\n",
       "      <td>172</td>\n",
       "      <td>88</td>\n",
       "      <td>88</td>\n",
       "      <td>3</td>\n",
       "      <td>8</td>\n",
       "      <td>10</td>\n",
       "      <td>4</td>\n",
       "      <td>7</td>\n",
       "      <td>0</td>\n",
       "      <td>0</td>\n",
       "      <td>0</td>\n",
       "      <td>0</td>\n",
       "      <td>0</td>\n",
       "      <td>0</td>\n",
       "      <td>3</td>\n",
       "      <td>11</td>\n",
       "      <td>1</td>\n",
       "      <td>63</td>\n",
       "      <td>2822</td>\n",
       "      <td>0</td>\n",
       "      <td>0</td>\n",
       "      <td>1</td>\n",
       "      <td>0</td>\n",
       "      <td>0</td>\n",
       "      <td>0</td>\n",
       "      <td>0</td>\n",
       "      <td>1</td>\n",
       "      <td>0</td>\n",
       "      <td>0</td>\n",
       "      <td>1529</td>\n",
       "      <td>1441</td>\n",
       "      <td>0</td>\n",
       "    </tr>\n",
       "    <tr>\n",
       "      <th>1</th>\n",
       "      <td>46344.0</td>\n",
       "      <td>1</td>\n",
       "      <td>1</td>\n",
       "      <td>38</td>\n",
       "      <td>11</td>\n",
       "      <td>1</td>\n",
       "      <td>6</td>\n",
       "      <td>2</td>\n",
       "      <td>1</td>\n",
       "      <td>6</td>\n",
       "      <td>2</td>\n",
       "      <td>1</td>\n",
       "      <td>1</td>\n",
       "      <td>2</td>\n",
       "      <td>5</td>\n",
       "      <td>0</td>\n",
       "      <td>0</td>\n",
       "      <td>0</td>\n",
       "      <td>0</td>\n",
       "      <td>0</td>\n",
       "      <td>0</td>\n",
       "      <td>3</td>\n",
       "      <td>11</td>\n",
       "      <td>0</td>\n",
       "      <td>66</td>\n",
       "      <td>2272</td>\n",
       "      <td>0</td>\n",
       "      <td>0</td>\n",
       "      <td>1</td>\n",
       "      <td>0</td>\n",
       "      <td>0</td>\n",
       "      <td>0</td>\n",
       "      <td>0</td>\n",
       "      <td>1</td>\n",
       "      <td>0</td>\n",
       "      <td>0</td>\n",
       "      <td>21</td>\n",
       "      <td>15</td>\n",
       "      <td>0</td>\n",
       "    </tr>\n",
       "    <tr>\n",
       "      <th>2</th>\n",
       "      <td>71613.0</td>\n",
       "      <td>0</td>\n",
       "      <td>0</td>\n",
       "      <td>26</td>\n",
       "      <td>426</td>\n",
       "      <td>49</td>\n",
       "      <td>127</td>\n",
       "      <td>111</td>\n",
       "      <td>21</td>\n",
       "      <td>42</td>\n",
       "      <td>1</td>\n",
       "      <td>8</td>\n",
       "      <td>2</td>\n",
       "      <td>10</td>\n",
       "      <td>4</td>\n",
       "      <td>0</td>\n",
       "      <td>0</td>\n",
       "      <td>0</td>\n",
       "      <td>0</td>\n",
       "      <td>0</td>\n",
       "      <td>0</td>\n",
       "      <td>3</td>\n",
       "      <td>11</td>\n",
       "      <td>0</td>\n",
       "      <td>55</td>\n",
       "      <td>2471</td>\n",
       "      <td>0</td>\n",
       "      <td>0</td>\n",
       "      <td>0</td>\n",
       "      <td>1</td>\n",
       "      <td>0</td>\n",
       "      <td>0</td>\n",
       "      <td>0</td>\n",
       "      <td>1</td>\n",
       "      <td>0</td>\n",
       "      <td>0</td>\n",
       "      <td>734</td>\n",
       "      <td>692</td>\n",
       "      <td>0</td>\n",
       "    </tr>\n",
       "  </tbody>\n",
       "</table>\n",
       "</div>"
      ],
      "text/plain": [
       "    Income  Kidhome  Teenhome  Recency  MntWines  MntFruits  MntMeatProducts  \\\n",
       "0  58138.0        0         0       58       635         88              546   \n",
       "1  46344.0        1         1       38        11          1                6   \n",
       "2  71613.0        0         0       26       426         49              127   \n",
       "\n",
       "   MntFishProducts  MntSweetProducts  MntGoldProds  NumDealsPurchases  \\\n",
       "0              172                88            88                  3   \n",
       "1                2                 1             6                  2   \n",
       "2              111                21            42                  1   \n",
       "\n",
       "   NumWebPurchases  NumCatalogPurchases  NumStorePurchases  NumWebVisitsMonth  \\\n",
       "0                8                   10                  4                  7   \n",
       "1                1                    1                  2                  5   \n",
       "2                8                    2                 10                  4   \n",
       "\n",
       "   AcceptedCmp3  AcceptedCmp4  AcceptedCmp5  AcceptedCmp1  AcceptedCmp2  \\\n",
       "0             0             0             0             0             0   \n",
       "1             0             0             0             0             0   \n",
       "2             0             0             0             0             0   \n",
       "\n",
       "   Complain  Z_CostContact  Z_Revenue  Response  Age  Customer_Days  \\\n",
       "0         0              3         11         1   63           2822   \n",
       "1         0              3         11         0   66           2272   \n",
       "2         0              3         11         0   55           2471   \n",
       "\n",
       "   marital_Divorced  marital_Married  marital_Single  marital_Together  \\\n",
       "0                 0                0               1                 0   \n",
       "1                 0                0               1                 0   \n",
       "2                 0                0               0                 1   \n",
       "\n",
       "   marital_Widow  education_2n Cycle  education_Basic  education_Graduation  \\\n",
       "0              0                   0                0                     1   \n",
       "1              0                   0                0                     1   \n",
       "2              0                   0                0                     1   \n",
       "\n",
       "   education_Master  education_PhD  MntTotal  MntRegularProds  \\\n",
       "0                 0              0      1529             1441   \n",
       "1                 0              0        21               15   \n",
       "2                 0              0       734              692   \n",
       "\n",
       "   AcceptedCmpOverall  \n",
       "0                   0  \n",
       "1                   0  \n",
       "2                   0  "
      ]
     },
     "execution_count": 22,
     "metadata": {},
     "output_type": "execute_result"
    }
   ],
   "source": [
    "df.head(3)"
   ]
  },
  {
   "cell_type": "code",
   "execution_count": 23,
   "id": "dda19441",
   "metadata": {},
   "outputs": [
    {
     "name": "stdout",
     "output_type": "stream",
     "text": [
      "This dataframe consists of  39  columns and 2021  rows.\n",
      "This dataframe consists of  0  null entires.\n",
      "This dataframe consists of  0  duplicate rows.\n"
     ]
    }
   ],
   "source": [
    "short_info(df)"
   ]
  },
  {
   "cell_type": "markdown",
   "id": "badd24db",
   "metadata": {},
   "source": [
    "## EDA"
   ]
  },
  {
   "cell_type": "markdown",
   "id": "3870627a",
   "metadata": {},
   "source": [
    "#### Investigaing Outliers\n",
    "We have gotten nulls and duplicates out of the way, but are there any outliers? Suppose there is, should we do anything about them? If action is needed, how should the outliers be handled?"
   ]
  },
  {
   "cell_type": "code",
   "execution_count": 24,
   "id": "7fab8327",
   "metadata": {
    "scrolled": true
   },
   "outputs": [
    {
     "data": {
      "image/png": "[encoded data removed]",
      "text/plain": [
       "<Figure size 1152x1728 with 20 Axes>"
      ]
     },
     "metadata": {
      "needs_background": "light"
     },
     "output_type": "display_data"
    }
   ],
   "source": [
    "cols_to_drop = ['AcceptedCmp1', 'AcceptedCmp2', 'AcceptedCmp3', 'AcceptedCmp4', 'AcceptedCmp5', 'Response', 'Complain', 'Z_CostContact', 'Z_Revenue', 'marital_Divorced', 'marital_Married', 'marital_Single', 'marital_Together', 'marital_Widow', 'education_2n Cycle', 'education_Basic', 'education_Graduation', 'education_Master', 'education_PhD', 'AcceptedCmpOverall']\n",
    "df_for_plot = df.drop(columns = cols_to_drop).select_dtypes(include = np.number)\n",
    "del cols_to_drop\n",
    "df_for_plot.plot(subplots = True, layout = (5, 4), kind = 'box', figsize = (16, 24), patch_artist = True)\n",
    "plt.suptitle('Find Outliers', fontsize = 15, y = 0.9)\n",
    "plt.savefig('feature_boxplots.png')"
   ]
  },
  {
   "cell_type": "markdown",
   "id": "8b4ffa43",
   "metadata": {},
   "source": [
    "There are many features with outliers, but the outliers do seem like they belong because of the features' nature. In other words, the outliers exist not because of probability. Therefore, I am leaving the outliers as they are. If unexplainable outliers appear, I will consider removing them from the feature."
   ]
  },
  {
   "cell_type": "markdown",
   "id": "e0558561",
   "metadata": {},
   "source": [
    "#### Feature Engineering - Manual\n",
    "We have neither mulitple datasets to joined together nor time series features within the dataframe; therefore, automation such as Featuretools and Tsfresj are not needed here. Below are some variables to create as they would be intuitively useful:\n",
    "- Total_Num_Purchases\n",
    " - The total number of purchases in the past two years, which can be acquired by summing up all 'Num_Purchases'\n",
    "- Accepted_Cmp_Portion_1 (and 2~5)\n",
    " - The portion of campaigns , which can be acquired by summing up all 'AcceptedCmp_'\n",
    "- AOV\n",
    " - The average order volume of each customer, which can be calculated by dividing 'MntTotal' by 'Total_num_purchase' "
   ]
  },
  {
   "cell_type": "code",
   "execution_count": 25,
   "id": "fa48484f",
   "metadata": {},
   "outputs": [
    {
     "data": {
      "text/html": [
       "<div>\n",
       "<style scoped>\n",
       "    .dataframe tbody tr th:only-of-type {\n",
       "        vertical-align: middle;\n",
       "    }\n",
       "\n",
       "    .dataframe tbody tr th {\n",
       "        vertical-align: top;\n",
       "    }\n",
       "\n",
       "    .dataframe thead th {\n",
       "        text-align: right;\n",
       "    }\n",
       "</style>\n",
       "<table border=\"1\" class=\"dataframe\">\n",
       "  <thead>\n",
       "    <tr style=\"text-align: right;\">\n",
       "      <th></th>\n",
       "      <th>Income</th>\n",
       "      <th>Kidhome</th>\n",
       "      <th>Teenhome</th>\n",
       "      <th>Recency</th>\n",
       "      <th>MntWines</th>\n",
       "      <th>MntFruits</th>\n",
       "      <th>MntMeatProducts</th>\n",
       "      <th>MntFishProducts</th>\n",
       "      <th>MntSweetProducts</th>\n",
       "      <th>MntGoldProds</th>\n",
       "      <th>NumDealsPurchases</th>\n",
       "      <th>NumWebPurchases</th>\n",
       "      <th>NumCatalogPurchases</th>\n",
       "      <th>NumStorePurchases</th>\n",
       "      <th>NumWebVisitsMonth</th>\n",
       "      <th>AcceptedCmp3</th>\n",
       "      <th>AcceptedCmp4</th>\n",
       "      <th>AcceptedCmp5</th>\n",
       "      <th>AcceptedCmp1</th>\n",
       "      <th>AcceptedCmp2</th>\n",
       "      <th>Complain</th>\n",
       "      <th>Z_CostContact</th>\n",
       "      <th>Z_Revenue</th>\n",
       "      <th>Response</th>\n",
       "      <th>Age</th>\n",
       "      <th>Customer_Days</th>\n",
       "      <th>marital_Divorced</th>\n",
       "      <th>marital_Married</th>\n",
       "      <th>marital_Single</th>\n",
       "      <th>marital_Together</th>\n",
       "      <th>marital_Widow</th>\n",
       "      <th>education_2n Cycle</th>\n",
       "      <th>education_Basic</th>\n",
       "      <th>education_Graduation</th>\n",
       "      <th>education_Master</th>\n",
       "      <th>education_PhD</th>\n",
       "      <th>MntTotal</th>\n",
       "      <th>MntRegularProds</th>\n",
       "      <th>AcceptedCmpOverall</th>\n",
       "      <th>Total_Num_Purchases</th>\n",
       "      <th>Total_Accepted_Cmp</th>\n",
       "      <th>AOV</th>\n",
       "    </tr>\n",
       "  </thead>\n",
       "  <tbody>\n",
       "    <tr>\n",
       "      <th>0</th>\n",
       "      <td>58138.0</td>\n",
       "      <td>0</td>\n",
       "      <td>0</td>\n",
       "      <td>58</td>\n",
       "      <td>635</td>\n",
       "      <td>88</td>\n",
       "      <td>546</td>\n",
       "      <td>172</td>\n",
       "      <td>88</td>\n",
       "      <td>88</td>\n",
       "      <td>3</td>\n",
       "      <td>8</td>\n",
       "      <td>10</td>\n",
       "      <td>4</td>\n",
       "      <td>7</td>\n",
       "      <td>0</td>\n",
       "      <td>0</td>\n",
       "      <td>0</td>\n",
       "      <td>0</td>\n",
       "      <td>0</td>\n",
       "      <td>0</td>\n",
       "      <td>3</td>\n",
       "      <td>11</td>\n",
       "      <td>1</td>\n",
       "      <td>63</td>\n",
       "      <td>2822</td>\n",
       "      <td>0</td>\n",
       "      <td>0</td>\n",
       "      <td>1</td>\n",
       "      <td>0</td>\n",
       "      <td>0</td>\n",
       "      <td>0</td>\n",
       "      <td>0</td>\n",
       "      <td>1</td>\n",
       "      <td>0</td>\n",
       "      <td>0</td>\n",
       "      <td>1529</td>\n",
       "      <td>1441</td>\n",
       "      <td>0</td>\n",
       "      <td>32</td>\n",
       "      <td>1</td>\n",
       "      <td>47.781250</td>\n",
       "    </tr>\n",
       "    <tr>\n",
       "      <th>1</th>\n",
       "      <td>46344.0</td>\n",
       "      <td>1</td>\n",
       "      <td>1</td>\n",
       "      <td>38</td>\n",
       "      <td>11</td>\n",
       "      <td>1</td>\n",
       "      <td>6</td>\n",
       "      <td>2</td>\n",
       "      <td>1</td>\n",
       "      <td>6</td>\n",
       "      <td>2</td>\n",
       "      <td>1</td>\n",
       "      <td>1</td>\n",
       "      <td>2</td>\n",
       "      <td>5</td>\n",
       "      <td>0</td>\n",
       "      <td>0</td>\n",
       "      <td>0</td>\n",
       "      <td>0</td>\n",
       "      <td>0</td>\n",
       "      <td>0</td>\n",
       "      <td>3</td>\n",
       "      <td>11</td>\n",
       "      <td>0</td>\n",
       "      <td>66</td>\n",
       "      <td>2272</td>\n",
       "      <td>0</td>\n",
       "      <td>0</td>\n",
       "      <td>1</td>\n",
       "      <td>0</td>\n",
       "      <td>0</td>\n",
       "      <td>0</td>\n",
       "      <td>0</td>\n",
       "      <td>1</td>\n",
       "      <td>0</td>\n",
       "      <td>0</td>\n",
       "      <td>21</td>\n",
       "      <td>15</td>\n",
       "      <td>0</td>\n",
       "      <td>11</td>\n",
       "      <td>0</td>\n",
       "      <td>1.909091</td>\n",
       "    </tr>\n",
       "    <tr>\n",
       "      <th>2</th>\n",
       "      <td>71613.0</td>\n",
       "      <td>0</td>\n",
       "      <td>0</td>\n",
       "      <td>26</td>\n",
       "      <td>426</td>\n",
       "      <td>49</td>\n",
       "      <td>127</td>\n",
       "      <td>111</td>\n",
       "      <td>21</td>\n",
       "      <td>42</td>\n",
       "      <td>1</td>\n",
       "      <td>8</td>\n",
       "      <td>2</td>\n",
       "      <td>10</td>\n",
       "      <td>4</td>\n",
       "      <td>0</td>\n",
       "      <td>0</td>\n",
       "      <td>0</td>\n",
       "      <td>0</td>\n",
       "      <td>0</td>\n",
       "      <td>0</td>\n",
       "      <td>3</td>\n",
       "      <td>11</td>\n",
       "      <td>0</td>\n",
       "      <td>55</td>\n",
       "      <td>2471</td>\n",
       "      <td>0</td>\n",
       "      <td>0</td>\n",
       "      <td>0</td>\n",
       "      <td>1</td>\n",
       "      <td>0</td>\n",
       "      <td>0</td>\n",
       "      <td>0</td>\n",
       "      <td>1</td>\n",
       "      <td>0</td>\n",
       "      <td>0</td>\n",
       "      <td>734</td>\n",
       "      <td>692</td>\n",
       "      <td>0</td>\n",
       "      <td>25</td>\n",
       "      <td>0</td>\n",
       "      <td>29.360000</td>\n",
       "    </tr>\n",
       "  </tbody>\n",
       "</table>\n",
       "</div>"
      ],
      "text/plain": [
       "    Income  Kidhome  Teenhome  Recency  MntWines  MntFruits  MntMeatProducts  \\\n",
       "0  58138.0        0         0       58       635         88              546   \n",
       "1  46344.0        1         1       38        11          1                6   \n",
       "2  71613.0        0         0       26       426         49              127   \n",
       "\n",
       "   MntFishProducts  MntSweetProducts  MntGoldProds  NumDealsPurchases  \\\n",
       "0              172                88            88                  3   \n",
       "1                2                 1             6                  2   \n",
       "2              111                21            42                  1   \n",
       "\n",
       "   NumWebPurchases  NumCatalogPurchases  NumStorePurchases  NumWebVisitsMonth  \\\n",
       "0                8                   10                  4                  7   \n",
       "1                1                    1                  2                  5   \n",
       "2                8                    2                 10                  4   \n",
       "\n",
       "   AcceptedCmp3  AcceptedCmp4  AcceptedCmp5  AcceptedCmp1  AcceptedCmp2  \\\n",
       "0             0             0             0             0             0   \n",
       "1             0             0             0             0             0   \n",
       "2             0             0             0             0             0   \n",
       "\n",
       "   Complain  Z_CostContact  Z_Revenue  Response  Age  Customer_Days  \\\n",
       "0         0              3         11         1   63           2822   \n",
       "1         0              3         11         0   66           2272   \n",
       "2         0              3         11         0   55           2471   \n",
       "\n",
       "   marital_Divorced  marital_Married  marital_Single  marital_Together  \\\n",
       "0                 0                0               1                 0   \n",
       "1                 0                0               1                 0   \n",
       "2                 0                0               0                 1   \n",
       "\n",
       "   marital_Widow  education_2n Cycle  education_Basic  education_Graduation  \\\n",
       "0              0                   0                0                     1   \n",
       "1              0                   0                0                     1   \n",
       "2              0                   0                0                     1   \n",
       "\n",
       "   education_Master  education_PhD  MntTotal  MntRegularProds  \\\n",
       "0                 0              0      1529             1441   \n",
       "1                 0              0        21               15   \n",
       "2                 0              0       734              692   \n",
       "\n",
       "   AcceptedCmpOverall  Total_Num_Purchases  Total_Accepted_Cmp        AOV  \n",
       "0                   0                   32                   1  47.781250  \n",
       "1                   0                   11                   0   1.909091  \n",
       "2                   0                   25                   0  29.360000  "
      ]
     },
     "execution_count": 25,
     "metadata": {},
     "output_type": "execute_result"
    }
   ],
   "source": [
    "df['Total_Num_Purchases'] = df.NumDealsPurchases + df.NumWebPurchases + df.NumCatalogPurchases + df.NumStorePurchases + df.NumWebVisitsMonth\n",
    "df['Total_Accepted_Cmp'] = df.AcceptedCmp1 + df.AcceptedCmp2 + df.AcceptedCmp2 + df.AcceptedCmp2  + df.AcceptedCmp3 + df.AcceptedCmp4 + df.AcceptedCmp5 + df.Response\n",
    "df['AOV'] = df.MntTotal / df.Total_Num_Purchases\n",
    "\n",
    "df.to_csv(title, index = False)\n",
    "df = pd.read_csv(title)\n",
    "df.head(3)"
   ]
  },
  {
   "cell_type": "markdown",
   "id": "49516f7a",
   "metadata": {},
   "source": [
    "#### Feature Selection - Random Forest\n",
    "One-hot encoding, splitting data into training and validation set, training a random forest, calculating for errors.\n",
    "As we have dealt with null entries and the removal of our target variable, we can conduct one-hot encoding with a simple one-liner."
   ]
  },
  {
   "cell_type": "code",
   "execution_count": 26,
   "id": "b9fbb3f9",
   "metadata": {},
   "outputs": [
    {
     "name": "stdout",
     "output_type": "stream",
     "text": [
      "Mean Absolute Error: 0.7741762767710049\n",
      "Mean Squared Error: 1.2701449341021418\n",
      "Root Mean Squared Error: 1.1270070692334373\n"
     ]
    }
   ],
   "source": [
    "df = pd.get_dummies(df)\n",
    "\n",
    "X = df.drop(columns=['NumStorePurchases'])\n",
    "y = df['NumStorePurchases']\n",
    "\n",
    "X_train, X_test, y_train, y_test = train_test_split(X, y, test_size =0.3) \n",
    "\n",
    "#Create a Random Forest Classifier with 200 trees\n",
    "rg = RandomForestRegressor(n_estimators = 200, n_jobs = -1)\n",
    "\n",
    "rg.fit(X_train, y_train)\n",
    "y_pred=rg.predict(X_test)\n",
    "\n",
    "print('Mean Absolute Error:', metrics.mean_absolute_error(y_test, y_pred))\n",
    "print('Mean Squared Error:', metrics.mean_squared_error(y_test, y_pred))\n",
    "print('Root Mean Squared Error:', np.sqrt(metrics.mean_squared_error(y_test, y_pred)))"
   ]
  },
  {
   "cell_type": "markdown",
   "id": "8453c207",
   "metadata": {},
   "source": [
    "Thanks to our random forest model, we get to know feature importance scores."
   ]
  },
  {
   "cell_type": "code",
   "execution_count": 27,
   "id": "061203c4",
   "metadata": {},
   "outputs": [
    {
     "data": {
      "image/png": "[encoded data removed]",
      "text/plain": [
       "<Figure size 504x504 with 1 Axes>"
      ]
     },
     "metadata": {
      "needs_background": "light"
     },
     "output_type": "display_data"
    }
   ],
   "source": [
    "# finding feature importance scores\n",
    "feature_imp = pd.Series(rg.feature_importances_, \n",
    "        index = list(X.columns)).sort_values(ascending=False)\n",
    "\n",
    "feature_imp = feature_imp[:10]\n",
    "\n",
    "# Creating a bar plot\n",
    "plt.figure(figsize = (7, 7))\n",
    "sb.barplot(x=feature_imp[:10], y=feature_imp.index[:10])\n",
    "# Add labels to your graph\n",
    "plt.xlabel('Feature Importance Score')\n",
    "plt.ylabel('Features')\n",
    "plt.title(\"Visualizing Top 10 Important Features\")\n",
    "plt.savefig('important_feautres.png', bbox_inches='tight')\n",
    "plt.show()"
   ]
  },
  {
   "cell_type": "markdown",
   "id": "35665994",
   "metadata": {},
   "source": [
    "#### Shap Values - Calculating and Visualizing"
   ]
  },
  {
   "cell_type": "code",
   "execution_count": 28,
   "id": "6a007e04",
   "metadata": {},
   "outputs": [
    {
     "ename": "NameError",
     "evalue": "name 'shap' is not defined",
     "output_type": "error",
     "traceback": [
      "\u001b[1;31m---------------------------------------------------------------------------\u001b[0m",
      "\u001b[1;31mNameError\u001b[0m                                 Traceback (most recent call last)",
      "\u001b[1;32m~\\AppData\\Local\\Temp/ipykernel_784/2857026883.py\u001b[0m in \u001b[0;36m<module>\u001b[1;34m\u001b[0m\n\u001b[1;32m----> 1\u001b[1;33m \u001b[0mex\u001b[0m \u001b[1;33m=\u001b[0m \u001b[0mshap\u001b[0m\u001b[1;33m.\u001b[0m\u001b[0mExplainer\u001b[0m\u001b[1;33m(\u001b[0m\u001b[0mrg\u001b[0m\u001b[1;33m,\u001b[0m \u001b[0mX_train\u001b[0m\u001b[1;33m)\u001b[0m\u001b[1;33m\u001b[0m\u001b[1;33m\u001b[0m\u001b[0m\n\u001b[0m\u001b[0;32m      2\u001b[0m \u001b[0mshap_values\u001b[0m \u001b[1;33m=\u001b[0m \u001b[0mex\u001b[0m\u001b[1;33m(\u001b[0m\u001b[0mX_test\u001b[0m\u001b[1;33m)\u001b[0m\u001b[1;33m\u001b[0m\u001b[1;33m\u001b[0m\u001b[0m\n\u001b[0;32m      3\u001b[0m \u001b[1;33m\u001b[0m\u001b[0m\n\u001b[0;32m      4\u001b[0m \u001b[0mplt\u001b[0m\u001b[1;33m.\u001b[0m\u001b[0mtitle\u001b[0m\u001b[1;33m(\u001b[0m\u001b[1;34m'SHAP summary for NumStorePurchases'\u001b[0m\u001b[1;33m,\u001b[0m \u001b[0msize\u001b[0m\u001b[1;33m=\u001b[0m\u001b[1;36m16\u001b[0m\u001b[1;33m)\u001b[0m\u001b[1;33m\u001b[0m\u001b[1;33m\u001b[0m\u001b[0m\n\u001b[0;32m      5\u001b[0m \u001b[0mfig\u001b[0m \u001b[1;33m=\u001b[0m \u001b[0mshap\u001b[0m\u001b[1;33m.\u001b[0m\u001b[0mplots\u001b[0m\u001b[1;33m.\u001b[0m\u001b[0mbeeswarm\u001b[0m\u001b[1;33m(\u001b[0m\u001b[0mshap_values\u001b[0m\u001b[1;33m,\u001b[0m \u001b[0mmax_display\u001b[0m\u001b[1;33m=\u001b[0m\u001b[1;36m8\u001b[0m\u001b[1;33m)\u001b[0m\u001b[1;33m\u001b[0m\u001b[1;33m\u001b[0m\u001b[0m\n",
      "\u001b[1;31mNameError\u001b[0m: name 'shap' is not defined"
     ]
    }
   ],
   "source": [
    "ex = shap.Explainer(rg, X_train)\n",
    "shap_values = ex(X_test)\n",
    "\n",
    "plt.title('SHAP summary for NumStorePurchases', size=16)\n",
    "fig = shap.plots.beeswarm(shap_values, max_display=8)\n",
    "plt.savefig('shap.png', bbox_inches='tight')\n",
    "plt.show()"
   ]
  },
  {
   "cell_type": "markdown",
   "id": "79c12b28",
   "metadata": {},
   "source": [
    "Observations:\n",
    "- The number of store purchases increases with higher total amount spent, ghiher total purchase amount, higher AOV, and higher amount of wine purchases.\n",
    "- The number of store purchases decreases higher number of website visits, higher number of purchases through catalog, and higher number of purchases through websites."
   ]
  },
  {
   "cell_type": "markdown",
   "id": "d95308e9",
   "metadata": {},
   "source": [
    "#### Feature Selection - Correlation Heatmap\n",
    "Apart from the knowing the 10 most important features, also use a heatmap to plot correlations between each set of variables to get to know the features even more. Blue indicates a positive correlation while red indicates a negative correlation.\n",
    "Also take notes of anomalies and patterns."
   ]
  },
  {
   "cell_type": "code",
   "execution_count": 29,
   "id": "e4dc01df",
   "metadata": {},
   "outputs": [
    {
     "data": {
      "image/png": "[encoded data removed]",
      "text/plain": [
       "<Figure size 1152x864 with 2 Axes>"
      ]
     },
     "metadata": {
      "needs_background": "light"
     },
     "output_type": "display_data"
    }
   ],
   "source": [
    "plt.figure(figsize = (16, 12))\n",
    "s = sb.heatmap(df.corr(),  cmap = 'RdBu', vmin = -1, vmax = 1,center = 0)\n",
    "s.set_yticklabels(s.get_yticklabels(), rotation = 0, fontsize = 12)\n",
    "s.set_xticklabels(s.get_xticklabels(), rotation = 90, fontsize = 12)\n",
    "bottom, top = s.get_ylim()\n",
    "s.set_ylim(bottom + 0.5, top - 0.5)\n",
    "plt.title(\"Correlation Heatmap\")\n",
    "plt.savefig('correlation_heatmap.png', bbox_inches = 'tight')\n",
    "plt.show()"
   ]
  },
  {
   "cell_type": "markdown",
   "id": "a90c4182",
   "metadata": {},
   "source": [
    "Observations:\n",
    "- High-income individuals\n",
    " - tend to spend more and purchase more times\n",
    " - tend to visit the company's website less frequently than other people\n",
    " - tend to have fewer number of purchases with a discount\n",
    "- People having kids at home\n",
    " - tend to spend less and purchase fewer times\n",
    " - tend to has higher number of purchases\n",
    "- People who purchased with high AOV\n",
    " - tend to buy more wines and meat products\n",
    " - tend to make higher number of purchases with a catalog\n",
    " - tend to not visit the company's website   \n",
    "\n",
    "Anomalies:\n",
    "\n",
    "Intuitively, the more complaints a customer has, the less the customer should spend and the fewer purchases the customer should make. However, the number of complaints in the last two years has nearly no correlation  with the total amount spent in the past two years."
   ]
  },
  {
   "cell_type": "markdown",
   "id": "f6c199c2",
   "metadata": {},
   "source": [
    "#### Investigating Anomalies\n",
    "Anomaly: lack of correlation between number of complaints and total amount spent"
   ]
  },
  {
   "cell_type": "code",
   "execution_count": 30,
   "id": "56df1dee",
   "metadata": {},
   "outputs": [
    {
     "data": {
      "text/plain": [
       "Text(0.5, 1.0, 'Complain vs. MntTotal')"
      ]
     },
     "execution_count": 30,
     "metadata": {},
     "output_type": "execute_result"
    },
    {
     "data": {
      "image/png": "[encoded data removed]",
      "text/plain": [
       "<Figure size 432x288 with 1 Axes>"
      ]
     },
     "metadata": {
      "needs_background": "light"
     },
     "output_type": "display_data"
    }
   ],
   "source": [
    "df.plot(x = 'Complain', y = 'MntTotal', kind = 'scatter')\n",
    "plt.title('Complain vs. MntTotal')"
   ]
  },
  {
   "cell_type": "code",
   "execution_count": 31,
   "id": "23076b4f",
   "metadata": {},
   "outputs": [
    {
     "name": "stdout",
     "output_type": "stream",
     "text": [
      "Pearson correlation (r):  -0.030881316598371702\n",
      "Pearson p-value:  0.1652107099904738\n"
     ]
    }
   ],
   "source": [
    "r, p_value = pearsonr(x = df['Complain'], y = df['MntTotal'])\n",
    "print('Pearson correlation (r): ', r)\n",
    "print('Pearson p-value: ', p_value)"
   ]
  },
  {
   "cell_type": "code",
   "execution_count": 32,
   "id": "9cefae4d",
   "metadata": {},
   "outputs": [
    {
     "data": {
      "text/plain": [
       "19"
      ]
     },
     "execution_count": 32,
     "metadata": {},
     "output_type": "execute_result"
    }
   ],
   "source": [
    "df[df['Complain'] > 0].shape[0]"
   ]
  },
  {
   "cell_type": "code",
   "execution_count": 33,
   "id": "398fe58d",
   "metadata": {},
   "outputs": [
    {
     "data": {
      "text/plain": [
       "2021"
      ]
     },
     "execution_count": 33,
     "metadata": {},
     "output_type": "execute_result"
    }
   ],
   "source": [
    "df.shape[0]"
   ]
  },
  {
   "cell_type": "markdown",
   "id": "42dfb64a",
   "metadata": {},
   "source": [
    "After invesgitation, out of the 2021 legit records, there are only 19 customers who complained in the past two years, while we have 2021 customers in total. "
   ]
  },
  {
   "cell_type": "markdown",
   "id": "86421f4d",
   "metadata": {},
   "source": [
    "## More EDA"
   ]
  },
  {
   "cell_type": "markdown",
   "id": "88a619f9",
   "metadata": {},
   "source": [
    "#### NumWebPurchases vs. NumWebVisitsMonth\n",
    "Intuitively, number of web purchases positively correlates with numbver of web visits. Verify the hypothesis."
   ]
  },
  {
   "cell_type": "code",
   "execution_count": 34,
   "id": "228b7232",
   "metadata": {},
   "outputs": [
    {
     "data": {
      "image/png": "[encoded data removed]",
      "text/plain": [
       "<Figure size 432x288 with 1 Axes>"
      ]
     },
     "metadata": {
      "needs_background": "light"
     },
     "output_type": "display_data"
    }
   ],
   "source": [
    "df.plot(x = 'NumWebPurchases', y = 'NumWebVisitsMonth', kind = 'scatter')\n",
    "plt.title('NumWebPurchases vs NumWebVisitsMonth');"
   ]
  },
  {
   "cell_type": "code",
   "execution_count": 35,
   "id": "7f99f7bc",
   "metadata": {},
   "outputs": [
    {
     "name": "stdout",
     "output_type": "stream",
     "text": [
      "Pearson correlation (r):  -0.056337521173040576\n",
      "Pearson p-value:  0.0113049556076874\n"
     ]
    }
   ],
   "source": [
    "r, p_value = pearsonr(x = df['NumWebPurchases'], y = df['NumWebVisitsMonth'])\n",
    "\n",
    "print('Pearson correlation (r): ', r)\n",
    "print('Pearson p-value: ', p_value)"
   ]
  },
  {
   "cell_type": "markdown",
   "id": "93a29068",
   "metadata": {},
   "source": [
    "The visualization does not show any correlation between NumWebPurchases and NumWebVisitsMonth."
   ]
  },
  {
   "cell_type": "markdown",
   "id": "c4f1dea8",
   "metadata": {},
   "source": [
    "#### NumStorePurchases & its Potential Factors\n",
    "Discover or features that are significantly related to the number of store. We can use random forest to predict number of store purchases, then use its feature importance to rank the most correlated features and investigate whether any of them is a factor."
   ]
  },
  {
   "cell_type": "code",
   "execution_count": 36,
   "id": "77cd407d",
   "metadata": {},
   "outputs": [
    {
     "data": {
      "image/png": "[encoded data removed]",
      "text/plain": [
       "<Figure size 432x288 with 1 Axes>"
      ]
     },
     "metadata": {
      "needs_background": "light"
     },
     "output_type": "display_data"
    }
   ],
   "source": [
    "df.NumStorePurchases.hist()\n",
    "plt.title(\"Distribution of the number of store purchases\");"
   ]
  },
  {
   "cell_type": "markdown",
   "id": "e7bcdadf",
   "metadata": {},
   "source": [
    "#### In-store vs. online shoppers\n",
    "Boxplot the comparison of order volume between in-store or online shoppers. With a significant difference, we can target one of the two legion."
   ]
  },
  {
   "cell_type": "code",
   "execution_count": 37,
   "id": "197a1df1",
   "metadata": {},
   "outputs": [
    {
     "data": {
      "image/png": "[encoded data removed]",
      "text/plain": [
       "<Figure size 360x432 with 1 Axes>"
      ]
     },
     "metadata": {
      "needs_background": "light"
     },
     "output_type": "display_data"
    }
   ],
   "source": [
    "store_shoppers = df[df.NumStorePurchases>0]\n",
    "store_shoppers = store_shoppers[store_shoppers.AOV <= (store_shoppers.AOV.mean()+3*store_shoppers.AOV.std())]\n",
    "store_shoppers['Type of shopper'] = \"In-store\"\n",
    "other_shoppers = df[df.NumStorePurchases==0]\n",
    "other_shoppers['Type of shopper'] = \"Other\"\n",
    "\n",
    "plt.figure(figsize = (5, 6))\n",
    "all_shoppers = store_shoppers.append(other_shoppers)\n",
    "plt.title(\"Do in-store shoppers have a higher average order volume?\")\n",
    "sb.boxplot(data = all_shoppers, x = 'Type of shopper', y = 'AOV')\n",
    "plt.ylabel(\"Average Order Volume\")\n",
    "plt.savefig('AOV.png', bbox_inches='tight')"
   ]
  },
  {
   "cell_type": "markdown",
   "id": "85d83adb",
   "metadata": {},
   "source": [
    "In-store shoppers have much higher order volumes at every percentile. Consider targetting in-store shoppers or converting online shoppers into in-store shoppers."
   ]
  },
  {
   "cell_type": "markdown",
   "id": "fefc2ae7",
   "metadata": {},
   "source": [
    "#### AOV vs. NumStorePurchases\n",
    "Scatterplot the relation between average order volumes and number of in-store purchases. There might be something we can do with this set of features."
   ]
  },
  {
   "cell_type": "code",
   "execution_count": 38,
   "id": "6ccc6403",
   "metadata": {},
   "outputs": [
    {
     "data": {
      "image/png": "[encoded data removed]",
      "text/plain": [
       "<Figure size 432x288 with 1 Axes>"
      ]
     },
     "metadata": {
      "needs_background": "light"
     },
     "output_type": "display_data"
    }
   ],
   "source": [
    "all_shoppers.plot(x='AOV', y='NumStorePurchases', kind='scatter')\n",
    "plt.title(\"AOV vs NumStorePurchases\");\n",
    "plt.savefig('AOV vs NumStorePurchases.png', bbox_inches='tight')"
   ]
  },
  {
   "cell_type": "code",
   "execution_count": 39,
   "id": "f0b6193f",
   "metadata": {
    "scrolled": true
   },
   "outputs": [
    {
     "name": "stdout",
     "output_type": "stream",
     "text": [
      "Pearson correlation (r):  0.5800098978673883\n",
      "Pearson p-value:  1.31490738085479e-180\n"
     ]
    }
   ],
   "source": [
    "all_shoppers.replace([np.inf, -np.inf], 0, inplace = True)\n",
    "r, p_value = pearsonr(x=all_shoppers['AOV'], y = all_shoppers['NumStorePurchases'])\n",
    "\n",
    "print('Pearson correlation (r): ', r)\n",
    "print('Pearson p-value: ', p_value)"
   ]
  },
  {
   "cell_type": "markdown",
   "id": "b7837dfb",
   "metadata": {},
   "source": [
    "#### MntGoldProds vs. NumStorePurchases\n",
    "Scatterplot the relation between amount spent on gold the past two years and number of in-store purchases. It is said that people who buy gold are more conservative therefore might not be responding much to our campaigns. Justify or refute the statement using an appropriate statistical test."
   ]
  },
  {
   "cell_type": "code",
   "execution_count": 40,
   "id": "eadcd210",
   "metadata": {},
   "outputs": [
    {
     "data": {
      "image/png": "[encoded data removed]",
      "text/plain": [
       "<Figure size 432x288 with 1 Axes>"
      ]
     },
     "metadata": {
      "needs_background": "light"
     },
     "output_type": "display_data"
    }
   ],
   "source": [
    "df.plot(x='MntGoldProds', y='NumStorePurchases', kind='scatter')\n",
    "plt.title(\"MntGoldProds vs NumStorePurchases\");\n",
    "plt.savefig('MntGoldProds vs NumStorePurchases.png', bbox_inches='tight')"
   ]
  },
  {
   "cell_type": "code",
   "execution_count": 41,
   "id": "2f0c6f46",
   "metadata": {},
   "outputs": [
    {
     "name": "stdout",
     "output_type": "stream",
     "text": [
      "Pearson correlation (r):  0.38219761966741295\n",
      "Pearson p-value:  2.716365397245341e-71\n"
     ]
    }
   ],
   "source": [
    "r, p_value  =  pearsonr(x = df['MntGoldProds'], y = df['NumStorePurchases'])\n",
    "\n",
    "print('Pearson correlation (r): ', r)\n",
    "print('Pearson p-value: ', p_value)"
   ]
  },
  {
   "cell_type": "markdown",
   "id": "4816388f",
   "metadata": {},
   "source": [
    "#### 2 Gold Purchases Groups"
   ]
  },
  {
   "cell_type": "code",
   "execution_count": 42,
   "id": "f60b8d1f",
   "metadata": {},
   "outputs": [
    {
     "data": {
      "image/png": "[encoded data removed]",
      "text/plain": [
       "<Figure size 288x360 with 1 Axes>"
      ]
     },
     "metadata": {
      "needs_background": "light"
     },
     "output_type": "display_data"
    }
   ],
   "source": [
    "gold_above_avg =  df[df.MntGoldProds > df.MntGoldProds.mean()]\n",
    "gold_above_avg['Gold Purchases Amount'] = \"Above Average\"\n",
    "gold_equ_or_below_avg =  df[df.MntGoldProds <= df.MntGoldProds.mean()]\n",
    "gold_equ_or_below_avg['Gold Purchases Amount'] = \"Equals or Below Average\"\n",
    "\n",
    "plt.figure(figsize = (4, 5))\n",
    "df_gold = gold_above_avg.append(gold_equ_or_below_avg)\n",
    "plt.title(\"2 Gold Purchases Groups\")\n",
    "sb.boxplot(data = df_gold, x = 'Gold Purchases Amount', y = 'NumStorePurchases')\n",
    "plt.ylabel(\"Number of In-Store Purchases\");"
   ]
  },
  {
   "cell_type": "markdown",
   "id": "d4d56413",
   "metadata": {},
   "source": [
    "#### Married PhD vs. the Rest"
   ]
  },
  {
   "cell_type": "code",
   "execution_count": 43,
   "id": "d41a7fe4",
   "metadata": {},
   "outputs": [
    {
     "data": {
      "image/png": "[encoded data removed]",
      "text/plain": [
       "<Figure size 288x360 with 1 Axes>"
      ]
     },
     "metadata": {
      "needs_background": "light"
     },
     "output_type": "display_data"
    }
   ],
   "source": [
    "married_phd = df[(df.education_PhD == 1) & (df.marital_Married == 1)]\n",
    "married_phd['label'] = \"Married PhD\"\n",
    "the_rest = df[(df.education_PhD != 1) | (df.marital_Married != 1)]\n",
    "the_rest['label'] = \"The rest\"\n",
    "\n",
    "df_combined = married_phd.append(the_rest)\n",
    "plt.figure(figsize = (4, 5))\n",
    "plt.title(\"Married PhD vs the Rest\")\n",
    "sb.boxplot(data = df_combined, x = 'label', y = 'MntFishProducts')\n",
    "plt.ylabel(\"Amount spent on fish products\");\n",
    "plt.savefig('Married PhD vs the Rest.png', bbox_inches='tight')"
   ]
  },
  {
   "cell_type": "markdown",
   "id": "9f9f420a",
   "metadata": {},
   "source": [
    "#### Which Marketing Campaigns Are Unsuccessful?  "
   ]
  },
  {
   "cell_type": "markdown",
   "id": "18a66c3c",
   "metadata": {},
   "source": [
    "Judge the success of campaigns based on the number of offers accepted for each campaign. Assuming the numbers of total offers from each campaign are equal, the larger the number of accepted offers, the more successful the campaign is  "
   ]
  },
  {
   "cell_type": "code",
   "execution_count": 44,
   "id": "297e342f",
   "metadata": {},
   "outputs": [
    {
     "data": {
      "image/png": "[encoded data removed]",
      "text/plain": [
       "<Figure size 432x288 with 1 Axes>"
      ]
     },
     "metadata": {
      "needs_background": "light"
     },
     "output_type": "display_data"
    }
   ],
   "source": [
    "df[[\"AcceptedCmp1\", \"AcceptedCmp2\",\"AcceptedCmp3\",\"AcceptedCmp4\",\"AcceptedCmp5\",\"Response\"]].sum().sort_values().plot.barh()\n",
    "plt.title(\"Which marketing campaign is most successful?\")\n",
    "plt.xlabel(\"Offer Accepted\");\n",
    "plt.ylabel(\"Campaign\")\n",
    "plt.savefig('Which marketing campaign is most successful.png', bbox_inches='tight')"
   ]
  },
  {
   "cell_type": "markdown",
   "id": "6fa04492",
   "metadata": {},
   "source": [
    "The last campaign has by far the best effect while campaign 2 has by far the worst."
   ]
  },
  {
   "cell_type": "markdown",
   "id": "3f15ab82",
   "metadata": {},
   "source": [
    "#### Which Marketing Channels Are Underperforming?"
   ]
  },
  {
   "cell_type": "code",
   "execution_count": 45,
   "id": "fbbd157a",
   "metadata": {},
   "outputs": [
    {
     "data": {
      "text/plain": [
       "Text(0, 0.5, 'Channel')"
      ]
     },
     "execution_count": 45,
     "metadata": {},
     "output_type": "execute_result"
    },
    {
     "data": {
      "image/png": "[encoded data removed]",
      "text/plain": [
       "<Figure size 432x288 with 1 Axes>"
      ]
     },
     "metadata": {
      "needs_background": "light"
     },
     "output_type": "display_data"
    }
   ],
   "source": [
    "df[[\"NumWebPurchases\", \"NumCatalogPurchases\", \"NumStorePurchases\"]].sum().sort_values().plot.barh()\n",
    "plt.title(\"Which marketing channels are underperforming?\")\n",
    "plt.xlabel(\"Total number of purchases\")\n",
    "plt.ylabel(\"Channel\")"
   ]
  },
  {
   "cell_type": "markdown",
   "id": "39050f4b",
   "metadata": {},
   "source": [
    "## Further Investigations"
   ]
  },
  {
   "cell_type": "markdown",
   "id": "8dcf912b",
   "metadata": {},
   "source": [
    "Now we know how successful each campaign is, investigate the differences in customer characteristics and spending behaviors between the last campaign(the most successful one), the most unsuccesful campaign, and the rest.\n",
    "- Characteristics - 'Income', 'Minorhome', 'Country', 'Join_month', 'Join_weekday'\n",
    "- Spending behaviors:\n",
    "    - Products - 'MntWines','MntFruits', 'MntMeatProducts', 'MntFishProducts', 'MntSweetProducts'\n",
    "    - Channels - 'NumWebPurchases', 'NumCatalogPurchases', 'NumStorePurchases'\n",
    "    - Totals - 'Total_Mnt', 'Total_num_purchase', 'AOV'"
   ]
  },
  {
   "cell_type": "markdown",
   "id": "7c5ee70f",
   "metadata": {},
   "source": [
    "## Recommendations for the CMO"
   ]
  },
  {
   "cell_type": "markdown",
   "id": "420500ed",
   "metadata": {},
   "source": [
    "#### Summary\n",
    "- The last "
   ]
  }
 ],
 "metadata": {
  "kernelspec": {
   "display_name": "Python 3 (ipykernel)",
   "language": "python",
   "name": "python3"
  },
  "language_info": {
   "codemirror_mode": {
    "name": "ipython",
    "version": 3
   },
   "file_extension": ".py",
   "mimetype": "text/x-python",
   "name": "python",
   "nbconvert_exporter": "python",
   "pygments_lexer": "ipython3",
   "version": "3.9.7"
  }
 },
 "nbformat": 4,
 "nbformat_minor": 5
}
